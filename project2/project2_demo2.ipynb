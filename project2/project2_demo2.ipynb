{
 "cells": [
  {
   "cell_type": "code",
   "execution_count": 8,
   "metadata": {},
   "outputs": [],
   "source": [
    "import numpy as np\n",
    "import matplotlib.pyplot as plt\n",
    "from nbody import Particles, NBodySimulator\n",
    "from nbody import load_files, save_movie\n",
    "\n",
    "# from numba import set_num_threads"
   ]
  },
  {
   "cell_type": "code",
   "execution_count": 9,
   "metadata": {},
   "outputs": [],
   "source": [
    "# Uncomment the following line to install required packages if needed\n",
    "\n",
    "#!conda install -y -c conda-forge ffmpeg, glob, numba"
   ]
  },
  {
   "cell_type": "markdown",
   "metadata": {},
   "source": [
    "# N-Body Simulation\n",
    "\n",
    "In this notebook, we will test the `NBodySimulator` class in `./nbody/simulator.py`. "
   ]
  },
  {
   "cell_type": "code",
   "execution_count": 10,
   "metadata": {},
   "outputs": [],
   "source": [
    "# Set the number of threads to use for numba\n",
    "# nthreads = 1\n",
    "# set_num_threads(nthreads)"
   ]
  },
  {
   "cell_type": "markdown",
   "metadata": {},
   "source": [
    "# Exercise 1: The Sun-Earth System\n",
    "\n",
    "The first test is to implment the Sun-Earth system, which is a two body system. We need to make sure that you could simulate a circular motion first."
   ]
  },
  {
   "cell_type": "markdown",
   "metadata": {},
   "source": [
    "## Step 1. The initial condition\n",
    "\n",
    "Copy the initial condition of the Earth-Sun system from `project2_demo1.ipynb`."
   ]
  },
  {
   "cell_type": "code",
   "execution_count": 11,
   "metadata": {},
   "outputs": [],
   "source": [
    "# TODO:\n",
    "\n",
    "num_particles = 2  # number of particles\n",
    "particles = Particles(N=num_particles)\n",
    "masses        = np.ones((num_particles,1))\n",
    "positions     = np.zeros((num_particles,3)) # 3 directions\n",
    "velocities    = np.zeros((num_particles,3))\n",
    "accelerations = np.zeros((num_particles,3))\n",
    "tags          = np.linspace(1,num_particles,num_particles)\n",
    "\n",
    "\n",
    "\n",
    "\n",
    "\n"
   ]
  },
  {
   "cell_type": "markdown",
   "metadata": {},
   "source": [
    "## Step 2. N-body simulation\n",
    "\n",
    "Make sure you have implmented the below two methods `setup()` and `evolve()`. Run the n-body simulation by:"
   ]
  },
  {
   "cell_type": "code",
   "execution_count": 12,
   "metadata": {},
   "outputs": [
    {
     "name": "stdout",
     "output_type": "stream",
     "text": [
      "n= 0 Time:  0  dt:  8640\n",
      "n= 30 Time:  259200  dt:  8640\n",
      "n= 60 Time:  518400  dt:  8640\n",
      "n= 90 Time:  777600  dt:  8640\n",
      "n= 120 Time:  1036800  dt:  8640\n",
      "n= 150 Time:  1296000  dt:  8640\n",
      "n= 180 Time:  1555200  dt:  8640\n",
      "n= 210 Time:  1814400  dt:  8640\n",
      "n= 240 Time:  2073600  dt:  8640\n",
      "n= 270 Time:  2332800  dt:  8640\n",
      "n= 300 Time:  2592000  dt:  8640\n",
      "n= 330 Time:  2851200  dt:  8640\n",
      "n= 360 Time:  3110400  dt:  8640\n",
      "n= 390 Time:  3369600  dt:  8640\n",
      "n= 420 Time:  3628800  dt:  8640\n",
      "n= 450 Time:  3888000  dt:  8640\n",
      "n= 480 Time:  4147200  dt:  8640\n",
      "n= 510 Time:  4406400  dt:  8640\n",
      "n= 540 Time:  4665600  dt:  8640\n",
      "n= 570 Time:  4924800  dt:  8640\n",
      "n= 600 Time:  5184000  dt:  8640\n",
      "n= 630 Time:  5443200  dt:  8640\n",
      "n= 660 Time:  5702400  dt:  8640\n",
      "n= 690 Time:  5961600  dt:  8640\n",
      "n= 720 Time:  6220800  dt:  8640\n",
      "n= 750 Time:  6480000  dt:  8640\n",
      "n= 780 Time:  6739200  dt:  8640\n",
      "n= 810 Time:  6998400  dt:  8640\n",
      "n= 840 Time:  7257600  dt:  8640\n",
      "n= 870 Time:  7516800  dt:  8640\n",
      "n= 900 Time:  7776000  dt:  8640\n",
      "n= 930 Time:  8035200  dt:  8640\n",
      "n= 960 Time:  8294400  dt:  8640\n",
      "n= 990 Time:  8553600  dt:  8640\n",
      "n= 1020 Time:  8812800  dt:  8640\n",
      "n= 1050 Time:  9072000  dt:  8640\n",
      "n= 1080 Time:  9331200  dt:  8640\n",
      "n= 1110 Time:  9590400  dt:  8640\n",
      "n= 1140 Time:  9849600  dt:  8640\n",
      "n= 1170 Time:  10108800  dt:  8640\n",
      "n= 1200 Time:  10368000  dt:  8640\n",
      "n= 1230 Time:  10627200  dt:  8640\n",
      "n= 1260 Time:  10886400  dt:  8640\n",
      "n= 1290 Time:  11145600  dt:  8640\n",
      "n= 1320 Time:  11404800  dt:  8640\n",
      "n= 1350 Time:  11664000  dt:  8640\n",
      "n= 1380 Time:  11923200  dt:  8640\n",
      "n= 1410 Time:  12182400  dt:  8640\n",
      "n= 1440 Time:  12441600  dt:  8640\n",
      "n= 1470 Time:  12700800  dt:  8640\n",
      "n= 1500 Time:  12960000  dt:  8640\n",
      "n= 1530 Time:  13219200  dt:  8640\n",
      "n= 1560 Time:  13478400  dt:  8640\n",
      "n= 1590 Time:  13737600  dt:  8640\n",
      "n= 1620 Time:  13996800  dt:  8640\n",
      "n= 1650 Time:  14256000  dt:  8640\n",
      "n= 1680 Time:  14515200  dt:  8640\n",
      "n= 1710 Time:  14774400  dt:  8640\n",
      "n= 1740 Time:  15033600  dt:  8640\n",
      "n= 1770 Time:  15292800  dt:  8640\n",
      "n= 1800 Time:  15552000  dt:  8640\n",
      "n= 1830 Time:  15811200  dt:  8640\n",
      "n= 1860 Time:  16070400  dt:  8640\n",
      "n= 1890 Time:  16329600  dt:  8640\n",
      "n= 1920 Time:  16588800  dt:  8640\n",
      "n= 1950 Time:  16848000  dt:  8640\n",
      "n= 1980 Time:  17107200  dt:  8640\n",
      "n= 2010 Time:  17366400  dt:  8640\n",
      "n= 2040 Time:  17625600  dt:  8640\n",
      "n= 2070 Time:  17884800  dt:  8640\n",
      "n= 2100 Time:  18144000  dt:  8640\n",
      "n= 2130 Time:  18403200  dt:  8640\n",
      "n= 2160 Time:  18662400  dt:  8640\n",
      "n= 2190 Time:  18921600  dt:  8640\n",
      "n= 2220 Time:  19180800  dt:  8640\n",
      "n= 2250 Time:  19440000  dt:  8640\n",
      "n= 2280 Time:  19699200  dt:  8640\n",
      "n= 2310 Time:  19958400  dt:  8640\n",
      "n= 2340 Time:  20217600  dt:  8640\n",
      "n= 2370 Time:  20476800  dt:  8640\n",
      "n= 2400 Time:  20736000  dt:  8640\n",
      "n= 2430 Time:  20995200  dt:  8640\n",
      "n= 2460 Time:  21254400  dt:  8640\n",
      "n= 2490 Time:  21513600  dt:  8640\n",
      "n= 2520 Time:  21772800  dt:  8640\n",
      "n= 2550 Time:  22032000  dt:  8640\n",
      "n= 2580 Time:  22291200  dt:  8640\n",
      "n= 2610 Time:  22550400  dt:  8640\n",
      "n= 2640 Time:  22809600  dt:  8640\n",
      "n= 2670 Time:  23068800  dt:  8640\n",
      "n= 2700 Time:  23328000  dt:  8640\n",
      "n= 2730 Time:  23587200  dt:  8640\n",
      "n= 2760 Time:  23846400  dt:  8640\n",
      "n= 2790 Time:  24105600  dt:  8640\n",
      "n= 2820 Time:  24364800  dt:  8640\n",
      "n= 2850 Time:  24624000  dt:  8640\n",
      "n= 2880 Time:  24883200  dt:  8640\n",
      "n= 2910 Time:  25142400  dt:  8640\n",
      "n= 2940 Time:  25401600  dt:  8640\n",
      "n= 2970 Time:  25660800  dt:  8640\n",
      "n= 3000 Time:  25920000  dt:  8640\n",
      "n= 3030 Time:  26179200  dt:  8640\n",
      "n= 3060 Time:  26438400  dt:  8640\n",
      "n= 3090 Time:  26697600  dt:  8640\n",
      "n= 3120 Time:  26956800  dt:  8640\n",
      "n= 3150 Time:  27216000  dt:  8640\n",
      "n= 3180 Time:  27475200  dt:  8640\n",
      "n= 3210 Time:  27734400  dt:  8640\n",
      "n= 3240 Time:  27993600  dt:  8640\n",
      "n= 3270 Time:  28252800  dt:  8640\n",
      "n= 3300 Time:  28512000  dt:  8640\n",
      "n= 3330 Time:  28771200  dt:  8640\n",
      "n= 3360 Time:  29030400  dt:  8640\n",
      "n= 3390 Time:  29289600  dt:  8640\n",
      "n= 3420 Time:  29548800  dt:  8640\n",
      "n= 3450 Time:  29808000  dt:  8640\n",
      "n= 3480 Time:  30067200  dt:  8640\n",
      "n= 3510 Time:  30326400  dt:  8640\n",
      "n= 3540 Time:  30585600  dt:  8640\n",
      "n= 3570 Time:  30844800  dt:  8640\n",
      "n= 3600 Time:  31104000  dt:  8640\n",
      "n= 3630 Time:  31363200  dt:  8640\n",
      "Simulation is done!\n"
     ]
    }
   ],
   "source": [
    "simulation = NBodySimulator(particles=particles)\n",
    "simulation.setup(G=6.674e-11,rsoft=1e9,method='RK4', io_freq=30)\n",
    "simulation.evolve(dt=8640, tmax=365*86400)"
   ]
  },
  {
   "cell_type": "markdown",
   "metadata": {},
   "source": [
    "## Step 3. Visualization\n",
    "\n",
    "Check the code in `./nobdy/visualization.py`.\n",
    "Data loader is implmented in the function `load_files`."
   ]
  },
  {
   "cell_type": "code",
   "execution_count": 13,
   "metadata": {},
   "outputs": [
    {
     "name": "stdout",
     "output_type": "stream",
     "text": [
      "['data_nbody\\\\nbody_000000.dat', 'data_nbody\\\\nbody_000030.dat', 'data_nbody\\\\nbody_000060.dat', 'data_nbody\\\\nbody_000090.dat', 'data_nbody\\\\nbody_000120.dat', 'data_nbody\\\\nbody_000150.dat', 'data_nbody\\\\nbody_000180.dat', 'data_nbody\\\\nbody_000210.dat', 'data_nbody\\\\nbody_000240.dat', 'data_nbody\\\\nbody_000270.dat', 'data_nbody\\\\nbody_000300.dat', 'data_nbody\\\\nbody_000330.dat', 'data_nbody\\\\nbody_000360.dat', 'data_nbody\\\\nbody_000390.dat', 'data_nbody\\\\nbody_000420.dat', 'data_nbody\\\\nbody_000450.dat', 'data_nbody\\\\nbody_000480.dat', 'data_nbody\\\\nbody_000510.dat', 'data_nbody\\\\nbody_000540.dat', 'data_nbody\\\\nbody_000570.dat', 'data_nbody\\\\nbody_000600.dat', 'data_nbody\\\\nbody_000630.dat', 'data_nbody\\\\nbody_000660.dat', 'data_nbody\\\\nbody_000690.dat', 'data_nbody\\\\nbody_000720.dat', 'data_nbody\\\\nbody_000750.dat', 'data_nbody\\\\nbody_000780.dat', 'data_nbody\\\\nbody_000810.dat', 'data_nbody\\\\nbody_000840.dat', 'data_nbody\\\\nbody_000870.dat', 'data_nbody\\\\nbody_000900.dat', 'data_nbody\\\\nbody_000930.dat', 'data_nbody\\\\nbody_000960.dat', 'data_nbody\\\\nbody_000990.dat', 'data_nbody\\\\nbody_001020.dat', 'data_nbody\\\\nbody_001050.dat', 'data_nbody\\\\nbody_001080.dat', 'data_nbody\\\\nbody_001110.dat', 'data_nbody\\\\nbody_001140.dat', 'data_nbody\\\\nbody_001170.dat', 'data_nbody\\\\nbody_001200.dat', 'data_nbody\\\\nbody_001230.dat', 'data_nbody\\\\nbody_001260.dat', 'data_nbody\\\\nbody_001290.dat', 'data_nbody\\\\nbody_001320.dat', 'data_nbody\\\\nbody_001350.dat', 'data_nbody\\\\nbody_001380.dat', 'data_nbody\\\\nbody_001410.dat', 'data_nbody\\\\nbody_001440.dat', 'data_nbody\\\\nbody_001470.dat', 'data_nbody\\\\nbody_001500.dat', 'data_nbody\\\\nbody_001530.dat', 'data_nbody\\\\nbody_001560.dat', 'data_nbody\\\\nbody_001590.dat', 'data_nbody\\\\nbody_001620.dat', 'data_nbody\\\\nbody_001650.dat', 'data_nbody\\\\nbody_001680.dat', 'data_nbody\\\\nbody_001710.dat', 'data_nbody\\\\nbody_001740.dat', 'data_nbody\\\\nbody_001770.dat', 'data_nbody\\\\nbody_001800.dat', 'data_nbody\\\\nbody_001830.dat', 'data_nbody\\\\nbody_001860.dat', 'data_nbody\\\\nbody_001890.dat', 'data_nbody\\\\nbody_001920.dat', 'data_nbody\\\\nbody_001950.dat', 'data_nbody\\\\nbody_001980.dat', 'data_nbody\\\\nbody_002010.dat', 'data_nbody\\\\nbody_002040.dat', 'data_nbody\\\\nbody_002070.dat', 'data_nbody\\\\nbody_002100.dat', 'data_nbody\\\\nbody_002130.dat', 'data_nbody\\\\nbody_002160.dat', 'data_nbody\\\\nbody_002190.dat', 'data_nbody\\\\nbody_002220.dat', 'data_nbody\\\\nbody_002250.dat', 'data_nbody\\\\nbody_002280.dat', 'data_nbody\\\\nbody_002310.dat', 'data_nbody\\\\nbody_002340.dat', 'data_nbody\\\\nbody_002370.dat', 'data_nbody\\\\nbody_002400.dat', 'data_nbody\\\\nbody_002430.dat', 'data_nbody\\\\nbody_002460.dat', 'data_nbody\\\\nbody_002490.dat', 'data_nbody\\\\nbody_002520.dat', 'data_nbody\\\\nbody_002550.dat', 'data_nbody\\\\nbody_002580.dat', 'data_nbody\\\\nbody_002610.dat', 'data_nbody\\\\nbody_002640.dat', 'data_nbody\\\\nbody_002670.dat', 'data_nbody\\\\nbody_002700.dat', 'data_nbody\\\\nbody_002730.dat', 'data_nbody\\\\nbody_002760.dat', 'data_nbody\\\\nbody_002790.dat', 'data_nbody\\\\nbody_002820.dat', 'data_nbody\\\\nbody_002850.dat', 'data_nbody\\\\nbody_002880.dat', 'data_nbody\\\\nbody_002910.dat', 'data_nbody\\\\nbody_002940.dat', 'data_nbody\\\\nbody_002970.dat', 'data_nbody\\\\nbody_003000.dat', 'data_nbody\\\\nbody_003030.dat', 'data_nbody\\\\nbody_003060.dat', 'data_nbody\\\\nbody_003090.dat', 'data_nbody\\\\nbody_003120.dat', 'data_nbody\\\\nbody_003150.dat', 'data_nbody\\\\nbody_003180.dat', 'data_nbody\\\\nbody_003210.dat', 'data_nbody\\\\nbody_003240.dat', 'data_nbody\\\\nbody_003270.dat', 'data_nbody\\\\nbody_003300.dat', 'data_nbody\\\\nbody_003330.dat', 'data_nbody\\\\nbody_003360.dat', 'data_nbody\\\\nbody_003390.dat', 'data_nbody\\\\nbody_003420.dat', 'data_nbody\\\\nbody_003450.dat', 'data_nbody\\\\nbody_003480.dat', 'data_nbody\\\\nbody_003510.dat', 'data_nbody\\\\nbody_003540.dat', 'data_nbody\\\\nbody_003570.dat', 'data_nbody\\\\nbody_003600.dat', 'data_nbody\\\\nbody_003630.dat']\n"
     ]
    }
   ],
   "source": [
    "fns = load_files('nbody')\n",
    "print(fns)\n"
   ]
  },
  {
   "cell_type": "markdown",
   "metadata": {},
   "source": [
    "Modify the matplotlib script "
   ]
  },
  {
   "cell_type": "code",
   "execution_count": 15,
   "metadata": {},
   "outputs": [
    {
     "ename": "ModuleNotFoundError",
     "evalue": "No module named 'ffmpeg'",
     "output_type": "error",
     "traceback": [
      "\u001b[1;31m---------------------------------------------------------------------------\u001b[0m",
      "\u001b[1;31mModuleNotFoundError\u001b[0m                       Traceback (most recent call last)",
      "Cell \u001b[1;32mIn[15], line 1\u001b[0m\n\u001b[1;32m----> 1\u001b[0m \u001b[38;5;28;01mimport\u001b[39;00m \u001b[38;5;21;01mffmpeg\u001b[39;00m\n\u001b[0;32m      2\u001b[0m au \u001b[38;5;241m=\u001b[39m \u001b[38;5;241m1.496e11\u001b[39m\n\u001b[0;32m      3\u001b[0m save_movie(fns, lengthscale\u001b[38;5;241m=\u001b[39m\u001b[38;5;241m2\u001b[39m\u001b[38;5;241m*\u001b[39mau,filename\u001b[38;5;241m=\u001b[39m\u001b[38;5;124m'\u001b[39m\u001b[38;5;124mnbody_earth_sun.mp4\u001b[39m\u001b[38;5;124m'\u001b[39m, fps\u001b[38;5;241m=\u001b[39m\u001b[38;5;241m10\u001b[39m)\n",
      "\u001b[1;31mModuleNotFoundError\u001b[0m: No module named 'ffmpeg'"
     ]
    }
   ],
   "source": [
    "import ffmpeg\n",
    "\n",
    "au = 1.496e11\n",
    "save_movie(fns, lengthscale=2*au,filename='nbody_earth_sun.mp4', fps=10)"
   ]
  },
  {
   "cell_type": "markdown",
   "metadata": {},
   "source": [
    "# Exercise 2: N-Body simulation\n",
    "\n",
    "Now, let's test our n-body solver with more particles. Copy the initial condition from the Exercise 2 in `project2_demo1.ipynb`."
   ]
  },
  {
   "cell_type": "code",
   "execution_count": null,
   "metadata": {},
   "outputs": [],
   "source": [
    "# TODO\n",
    "\n",
    "\n",
    "\n",
    "\n",
    "\n",
    "\n",
    "\n",
    "\n"
   ]
  },
  {
   "cell_type": "markdown",
   "metadata": {},
   "source": [
    "## Step 2. Simulation.\n",
    "\n",
    "Visualize the system but use dimensionless units. Set `G=1` and `rsoft=0.001`."
   ]
  },
  {
   "cell_type": "code",
   "execution_count": null,
   "metadata": {},
   "outputs": [],
   "source": [
    "simulation = NBodySimulator(particles=pts)\n",
    "simulation.setup(G=1,rsoft=0.001,method='RK4', io_freq=10, io_header='cluster')\n",
    "simulation.evolve(dt=0.01, tmax=1)"
   ]
  },
  {
   "cell_type": "markdown",
   "metadata": {},
   "source": [
    "It is VERY slow !!!!\n",
    "\n",
    "Beacuse the accerlation calculations requires order of NxN calculations!\n",
    "Could we improve it?\n",
    "\n",
    "First, we should avoid the two \"for\" loops in the calculation using python.\\\n",
    "Second, we have many cup cores in our machine. Could we parallelize it?"
   ]
  },
  {
   "cell_type": "markdown",
   "metadata": {},
   "source": [
    "# `numba`\n",
    "\n",
    "Step 1. Take out the function to calculate the accerlation from the class into a pure function that only counts math calculations (aka. a kernel).\n",
    "\n",
    "Step 2. Use the `numba`'s `@jit` micro. \n",
    "\n",
    "Results: In my experiments. I got roughly x140 speed up with the @jit(nopython=True). \n",
    "\n",
    "Step 3. Try using `@njit` and `prange` in numba."
   ]
  },
  {
   "cell_type": "markdown",
   "metadata": {},
   "source": [
    "## Performance\n",
    "\n",
    "### Strong Scaling Test\n",
    "\n",
    "**Strong scaling**: The number of processors is increased while the problem size remains constant.\\\n",
    "We could use `%timeit` to measure the performance. Let's run 1000 particles for 10 step."
   ]
  },
  {
   "cell_type": "code",
   "execution_count": null,
   "metadata": {},
   "outputs": [],
   "source": [
    "num_particles = 1000\n",
    "pts = Particles(N=num_particles)\n",
    "pts.masses = np.ones((num_particles, 1))* 10/num_particles\n",
    "pts.positions = np.random.randn(num_particles, 3)\n",
    "pts.velocities = np.random.randn(num_particles, 3)\n",
    "pts.accelerations = np.zeros((num_particles, 3))\n",
    "\n",
    "simulation = NBodySimulator(particles=pts)\n",
    "simulation.setup(G=1,rsoft=0.001,method='RK4', io_screen=False, io_freq=0, io_header='cluster')\n",
    "#simulation.evolve(dt=0.02, tmax=1)"
   ]
  },
  {
   "cell_type": "code",
   "execution_count": null,
   "metadata": {},
   "outputs": [],
   "source": [
    "%timeit simulation.evolve(dt=0.02, tmax=0.2)"
   ]
  },
  {
   "cell_type": "markdown",
   "metadata": {},
   "source": [
    "**Kuo-Chuan's measurements**\n",
    "\n",
    "CPU: 3 GHz 10-Core Intel Xeon W\n",
    "\n",
    "1000 particles. 10 steps.\n",
    "\n",
    "without `numba`: 5min 31s ± 2 s per loop (mean ± std. dev. of 7 runs, 1 loop each)\n",
    "with `numba`:\n",
    "* 1 core (`jit`): 17.7 s ± 328 ms per loop (mean ± std. dev. of 7 runs, 1 loop each)\n",
    "* 1 core (`njit`): 10.4 s ± 337 ms per loop (mean ± std. dev. of 7 runs, 1 loop each)\n",
    "* 2 cores: 7.61 s ± 52.8 ms per loop (mean ± std. dev. of 7 runs, 1 loop each)\n",
    "* 6 cores: 3.35 s ± 50.9 ms per loop (mean ± std. dev. of 7 runs, 1 loop each)\n",
    "* 10 cores: 2.12 s ± 16.2 ms per loop (mean ± std. dev. of 7 runs, 1 loop each)\n",
    "* 12 cores: 1.95 s ± 36.1 ms per loop (mean ± std. dev. of 7 runs, 1 loop each)\n",
    "* 16 cores: 1.64 s ± 46 ms per loop (mean ± std. dev. of 7 runs, 1 loop each)\n",
    "* 20 cores: 1.49 s ± 55.1 ms per loop (mean ± std. dev. of 7 runs, 1 loop each)"
   ]
  },
  {
   "cell_type": "code",
   "execution_count": null,
   "metadata": {},
   "outputs": [],
   "source": [
    "threads = [1,2,6,10,12,16,20]                     # Replace it to your measured values\n",
    "times = [10.4, 7.61, 3.35, 2.12, 1.95, 1.64,1.49] # Replace it to your measured values\n",
    "ideal = times[0]/np.array(threads)\n",
    "plt.loglog(threads, times)\n",
    "plt.loglog(threads, ideal, '--')\n",
    "plt.xlabel('Number of threads')\n",
    "plt.ylabel('Time for 10 iterations (s)')\n",
    "plt.legend(['Measured', 'Ideal'])\n",
    "plt.title('Strong scaling')\n",
    "plt.show()"
   ]
  },
  {
   "cell_type": "markdown",
   "metadata": {},
   "source": [
    "## Weak Scaling Test\n",
    "\n",
    "In N-body simulation, the problem size is proportional to $N^2$.\\\n",
    "**Weaking scaling** test measures the scaling with the same problem size per thread (core)."
   ]
  },
  {
   "cell_type": "code",
   "execution_count": null,
   "metadata": {},
   "outputs": [],
   "source": [
    "num_particles = int(225*np.sqrt(nthreads))\n",
    "print(\"N =\", num_particles, \", threads = \", nthreads)\n",
    "pts = Particles(N=num_particles)\n",
    "pts.masses = np.ones((num_particles, 1))* 10/num_particles\n",
    "pts.positions = np.random.randn(num_particles, 3)\n",
    "pts.velocities = np.random.randn(num_particles, 3)\n",
    "pts.accelerations = np.zeros((num_particles, 3))\n",
    "\n",
    "simulation = NBodySimulator(particles=pts)\n",
    "simulation.setup(G=1,rsoft=0.001,method='RK4', io_screen=False, io_freq=0, io_header='cluster')"
   ]
  },
  {
   "cell_type": "code",
   "execution_count": null,
   "metadata": {},
   "outputs": [],
   "source": [
    "%timeit simulation.evolve(dt=0.02, tmax=0.2)"
   ]
  },
  {
   "cell_type": "markdown",
   "metadata": {},
   "source": [
    "Kuo-Chuan's measurements\n",
    "\n",
    "* N = 225 threads =  1: 537 ms ± 13.9 ms per loop (mean ± std. dev. of 7 runs, 1 loop each)\n",
    "* N = 450 threads =  4: 981 ms ± 17.3 ms per loop (mean ± std. dev. of 7 runs, 1 loop each)\n",
    "* N = 636 threads =  8: 1.07 s ± 22.3 ms per loop (mean ± std. dev. of 7 runs, 1 loop each)\n",
    "* N = 779 threads =  12: 1.17 s ± 33.7 ms per loop (mean ± std. dev. of 7 runs, 1 loop each)\n",
    "* N = 900 threads =  16: 1.29 s ± 6.85 ms per loop (mean ± std. dev. of 7 runs, 1 loop each)\n",
    "* N = 1006 threads =  20: 1.51 s ± 35.3 ms per loop (mean ± std. dev. of 7 runs, 1 loop each)"
   ]
  },
  {
   "cell_type": "code",
   "execution_count": null,
   "metadata": {},
   "outputs": [],
   "source": [
    "threads = [1,4,8,12,16,20]                     # Replace it to your measured values\n",
    "times = [0.537, 0.981, 1.07, 1.17, 1.29, 1.51] # Replace it to your measured values\n",
    "ideal = 0.981 * np.ones(len(threads))\n",
    "plt.plot(threads, times)\n",
    "plt.plot(threads, ideal, '--')\n",
    "plt.xlabel('Number of threads')\n",
    "plt.ylabel('Time for 10 iterations (s)')\n",
    "plt.legend(['Measured', 'Ideal'])\n",
    "plt.title('Weak scaling')\n",
    "plt.show()"
   ]
  }
 ],
 "metadata": {
  "kernelspec": {
   "display_name": "comphys-112",
   "language": "python",
   "name": "python3"
  },
  "language_info": {
   "codemirror_mode": {
    "name": "ipython",
    "version": 3
   },
   "file_extension": ".py",
   "mimetype": "text/x-python",
   "name": "python",
   "nbconvert_exporter": "python",
   "pygments_lexer": "ipython3",
   "version": "3.12.1"
  }
 },
 "nbformat": 4,
 "nbformat_minor": 2
}
