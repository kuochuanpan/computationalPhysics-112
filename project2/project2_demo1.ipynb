{
 "cells": [
  {
   "cell_type": "code",
   "execution_count": 1,
   "metadata": {},
   "outputs": [],
   "source": [
    "import numpy as np\n",
    "import matplotlib.pyplot as plt\n",
    "from nbody import Particles "
   ]
  },
  {
   "cell_type": "markdown",
   "metadata": {},
   "source": []
  },
  {
   "cell_type": "markdown",
   "metadata": {},
   "source": [
    "# The `Particles` class\n",
    "\n",
    "We could write a `Particles` python class to handle the particle information.\n",
    "The class contains several physical properties, including tag, mass, position, velocity, acceleration, and time.\n",
    "\n",
    "For our own convenience, we want to have the below data type to handle the N-body simulation:"
   ]
  },
  {
   "cell_type": "code",
   "execution_count": 2,
   "metadata": {},
   "outputs": [],
   "source": [
    "time          = 0    # the starting  time\n",
    "num_particles = 100  # number of particles\n",
    "masses        = np.ones((num_particles,1))\n",
    "positions     = np.zeros((num_particles,3)) # 3 directions\n",
    "velocities    = np.zeros((num_particles,3))\n",
    "accelerations = np.zeros((num_particles,3))\n",
    "tags          = np.linspace(1,num_particles,num_particles)"
   ]
  },
  {
   "cell_type": "markdown",
   "metadata": {},
   "source": [
    "Note that, the mass is setting to a Nx1 martrix.\\\n",
    "The reason to use Nx1 matrix but not a 1D numpy array is because mass x velcoity is the momentum\\\n",
    "and only Nx1 matrix could multiple with an Nx3 matrix.\n",
    "\n",
    "The particles class can be initialized by"
   ]
  },
  {
   "cell_type": "code",
   "execution_count": 3,
   "metadata": {},
   "outputs": [],
   "source": [
    "particles = Particles(N=num_particles)"
   ]
  },
  {
   "cell_type": "code",
   "execution_count": 4,
   "metadata": {},
   "outputs": [
    {
     "name": "stdout",
     "output_type": "stream",
     "text": [
      "[[9.80175947e-01 9.87964213e-01 7.71735268e-01]\n",
      " [6.07923472e-02 5.95596484e-02 6.70033584e-01]\n",
      " [6.66565617e-01 5.63538369e-01 9.53569814e-01]\n",
      " [6.38589316e-01 6.62870904e-01 5.69128060e-01]\n",
      " [2.95457570e-01 4.75528701e-01 5.35837511e-01]\n",
      " [2.97954433e-01 2.01030073e-01 6.47831640e-01]\n",
      " [1.60511584e-01 1.07363448e-02 3.22142466e-01]\n",
      " [8.21855411e-01 5.51544050e-01 5.02321049e-01]\n",
      " [6.94946862e-01 1.65630129e-01 5.67439767e-01]\n",
      " [6.69325563e-01 8.88940276e-01 2.74223578e-01]\n",
      " [3.14968400e-01 4.79863125e-03 1.75107542e-01]\n",
      " [6.48379237e-02 3.46566817e-01 1.85045425e-01]\n",
      " [2.67329687e-01 1.46379173e-01 4.05918315e-01]\n",
      " [4.49624591e-01 1.58940214e-01 5.69339375e-01]\n",
      " [5.76454753e-01 9.79832037e-01 8.82430406e-01]\n",
      " [7.90225757e-02 3.70292236e-01 4.92219978e-01]\n",
      " [9.12167345e-01 8.18196073e-01 9.42023861e-01]\n",
      " [2.28234403e-01 5.69773976e-01 3.37431693e-01]\n",
      " [3.07495796e-01 8.14538601e-01 7.49383922e-01]\n",
      " [6.32058277e-01 3.33327709e-01 4.01053926e-01]\n",
      " [5.00773801e-02 6.35396656e-01 4.52856759e-01]\n",
      " [8.15055469e-01 2.56627597e-01 8.83895894e-01]\n",
      " [3.89570295e-01 1.17665136e-01 9.71993379e-03]\n",
      " [1.88791692e-02 8.35997239e-01 4.57125675e-01]\n",
      " [8.13894880e-01 3.36438333e-01 7.60546805e-01]\n",
      " [3.18968215e-02 8.52923412e-01 6.59070076e-01]\n",
      " [6.37806089e-01 5.13590864e-01 3.11930590e-01]\n",
      " [1.19193977e-01 1.29422361e-01 1.86662145e-01]\n",
      " [1.84839944e-01 3.53595549e-01 5.10934833e-01]\n",
      " [6.50004369e-01 4.65050696e-01 4.45530408e-02]\n",
      " [4.45422942e-01 8.58917018e-01 4.83868339e-01]\n",
      " [1.29312743e-01 5.47571232e-01 9.87412216e-01]\n",
      " [6.33777368e-01 3.43308365e-01 1.95366141e-01]\n",
      " [8.56538527e-01 1.90130011e-01 7.85599567e-01]\n",
      " [1.10321806e-01 9.40731661e-01 5.03757303e-01]\n",
      " [1.44635078e-01 8.64399055e-01 5.77339840e-01]\n",
      " [5.34876969e-01 5.44194064e-01 4.87476773e-01]\n",
      " [4.65893444e-01 9.03762134e-01 9.20983998e-01]\n",
      " [9.97685498e-01 7.89938856e-02 1.35313304e-01]\n",
      " [1.29540143e-01 7.17570536e-01 8.87332488e-01]\n",
      " [9.94837755e-01 2.75891620e-01 9.77242767e-01]\n",
      " [8.76654783e-01 9.55882650e-01 3.38665455e-01]\n",
      " [4.24201868e-01 8.95294842e-01 1.15660477e-01]\n",
      " [9.93191894e-01 8.54182489e-01 3.93723453e-01]\n",
      " [7.38665875e-01 6.23957997e-01 5.48236888e-01]\n",
      " [2.14483540e-01 8.91575488e-01 7.84972644e-02]\n",
      " [7.52398570e-01 8.59728285e-01 8.06084933e-01]\n",
      " [3.87735990e-01 2.27930780e-01 2.01714215e-01]\n",
      " [8.55892638e-01 1.10969803e-01 7.04576321e-01]\n",
      " [4.56544141e-01 3.85772563e-01 6.59880180e-02]\n",
      " [9.39998380e-01 9.92143008e-01 5.78499571e-01]\n",
      " [1.83031045e-01 6.31835484e-01 5.22176445e-01]\n",
      " [5.12190829e-01 2.66078208e-01 9.35191330e-01]\n",
      " [6.95847516e-01 8.18148008e-01 8.19906410e-01]\n",
      " [3.55111772e-01 4.27110062e-01 3.65271194e-01]\n",
      " [8.34396485e-01 6.52014984e-02 8.62963862e-01]\n",
      " [7.61831503e-01 2.41213443e-01 6.38979347e-01]\n",
      " [8.88449594e-01 2.45598122e-01 7.22986765e-01]\n",
      " [9.21604724e-01 1.20640396e-02 4.05596206e-01]\n",
      " [3.39150801e-01 1.46942268e-01 3.00368745e-02]\n",
      " [8.23543742e-01 8.68562206e-01 7.25420265e-01]\n",
      " [7.72489625e-01 2.73381301e-01 9.02304593e-01]\n",
      " [5.32199476e-01 1.59692487e-02 8.69529098e-01]\n",
      " [9.67242010e-01 4.73544383e-01 2.14941441e-01]\n",
      " [3.99418334e-01 2.61329699e-01 9.87273575e-01]\n",
      " [3.08904698e-01 5.25923525e-01 9.64530090e-01]\n",
      " [5.50603562e-01 2.05984955e-01 9.84771593e-01]\n",
      " [5.07015049e-02 6.76071428e-04 1.76887190e-01]\n",
      " [4.06923495e-01 8.72448930e-01 3.61753922e-01]\n",
      " [9.93348709e-01 2.64554347e-01 2.40082568e-01]\n",
      " [7.53009364e-03 9.56389887e-01 7.35688340e-01]\n",
      " [3.17589225e-01 2.64745738e-01 4.72114098e-01]\n",
      " [6.56726338e-01 9.73500322e-01 6.67539937e-02]\n",
      " [7.42987585e-01 7.08474553e-01 5.82633506e-01]\n",
      " [7.71562044e-01 3.54760756e-01 4.27536193e-01]\n",
      " [5.20832881e-01 5.34423558e-01 9.02509884e-01]\n",
      " [5.51303104e-01 5.82909391e-01 3.95759206e-01]\n",
      " [6.46392972e-01 1.80916019e-01 8.53518939e-01]\n",
      " [7.85935609e-01 6.73652872e-01 5.60817762e-01]\n",
      " [3.95209113e-01 7.20918747e-01 1.50188981e-02]\n",
      " [2.73978293e-01 7.92509209e-01 3.13715056e-01]\n",
      " [4.67527053e-01 2.90793200e-01 6.22372932e-01]\n",
      " [5.40713264e-01 3.78244091e-01 5.26952176e-01]\n",
      " [2.07678971e-01 9.47374345e-01 9.96151574e-01]\n",
      " [8.35081388e-01 5.77391150e-01 2.43693291e-01]\n",
      " [1.47115303e-01 6.91573221e-01 6.57575352e-02]\n",
      " [1.94753221e-01 6.26965920e-02 5.57168988e-01]\n",
      " [9.61855313e-02 2.45633287e-01 5.60532584e-01]\n",
      " [6.82738977e-01 6.91713678e-01 9.60520258e-01]\n",
      " [5.00411573e-01 2.40852388e-01 6.51992571e-01]\n",
      " [4.32684544e-01 7.20652317e-01 8.23826836e-01]\n",
      " [9.34117983e-01 7.12675238e-01 7.76958748e-01]\n",
      " [6.34177492e-01 8.37530206e-01 9.49168823e-02]\n",
      " [3.15572965e-01 3.39016646e-02 2.17958818e-01]\n",
      " [2.14035994e-03 6.32413822e-01 2.42236404e-01]\n",
      " [4.58010388e-01 4.85655765e-01 3.79416587e-01]\n",
      " [2.79133966e-01 7.08934681e-01 6.52098371e-01]\n",
      " [5.72276151e-01 3.94929593e-01 2.76866055e-01]\n",
      " [9.30226739e-01 3.19159375e-01 2.21897822e-01]\n",
      " [9.95499156e-02 5.34867737e-01 5.78849256e-01]]\n"
     ]
    }
   ],
   "source": [
    "particles.masses = np.ones((num_particles,1))\n",
    "particles.positions = np.random.rand(num_particles, 3)\n",
    "particles.velocities = np.random.rand(num_particles, 3)\n",
    "particles.accelerations = np.random.rand(num_particles, 3)\n",
    "particles.tags = np.linspace(1,num_particles,num_particles)\n",
    "print(particles.accelerations)"
   ]
  },
  {
   "cell_type": "markdown",
   "metadata": {},
   "source": []
  },
  {
   "cell_type": "markdown",
   "metadata": {},
   "source": [
    "Make sure your code will check the shape of your inputs. It must return errors when setting an incorrect shape."
   ]
  },
  {
   "cell_type": "code",
   "execution_count": null,
   "metadata": {},
   "outputs": [],
   "source": [
    "# make sure the below codes will return an error. uncomment each line to test\n",
    "\n",
    "# particles.masses = np.ones(num_particles)\n",
    "# particles.positions = np.random.rand(199, 3)\n",
    "# particles.velocities = np.random.rand(500, 3)\n",
    "# particles.accelerations = np.random.rand(num_particles, 2)\n",
    "# particles.tags = np.linspace(1,num_particles,500)"
   ]
  },
  {
   "cell_type": "markdown",
   "metadata": {},
   "source": [
    "# Add (remove) more particles\n",
    "\n",
    "We could add more particles on the fly."
   ]
  },
  {
   "cell_type": "code",
   "execution_count": null,
   "metadata": {},
   "outputs": [],
   "source": [
    "num_particles = 20\n",
    "masses = np.ones((num_particles,1))\n",
    "positions = np.random.rand(num_particles, 3)\n",
    "velocities = np.random.rand(num_particles, 3)\n",
    "accelerations = np.random.rand(num_particles, 3)\n",
    "\n",
    "particles.add_particles(masses, positions, velocities, accelerations)\n",
    "print(particles.nparticles)\n",
    "print(particles._masses.shape)\n",
    "print(particles._positions.shape)\n",
    "\n"
   ]
  },
  {
   "cell_type": "markdown",
   "metadata": {},
   "source": [
    "### Data IO\n",
    "\n",
    "We could also dump the particle information into a text file."
   ]
  },
  {
   "cell_type": "code",
   "execution_count": null,
   "metadata": {},
   "outputs": [],
   "source": [
    "# particles.output(filename='data.txt')\n",
    "particles.save_data('Nbady_number_120_time_0')\n"
   ]
  },
  {
   "cell_type": "markdown",
   "metadata": {},
   "source": [
    "### Visualization\n",
    "\n",
    "We could also visualize (both 2D and 3D) these particles"
   ]
  },
  {
   "cell_type": "code",
   "execution_count": null,
   "metadata": {},
   "outputs": [],
   "source": [
    "particles.plot_output(2)"
   ]
  },
  {
   "cell_type": "code",
   "execution_count": null,
   "metadata": {},
   "outputs": [],
   "source": [
    "particles.plot_output(3)"
   ]
  },
  {
   "cell_type": "markdown",
   "metadata": {},
   "source": [
    "# Exercise 1\n",
    "\n",
    "Implment the `Particles` class in `./nbody/particles.py`. Please make sure your Particles class has passed all the test in the above section. "
   ]
  },
  {
   "cell_type": "code",
   "execution_count": null,
   "metadata": {},
   "outputs": [],
   "source": [
    "# TODO: test your class here\n",
    "particles = Particles(N=num_particles)\n",
    "\n",
    "import sys \n",
    "sys.path.append('../project1/solver')\n",
    "\n"
   ]
  },
  {
   "cell_type": "markdown",
   "metadata": {},
   "source": [
    "# Exercise 2\n",
    "\n",
    "Once you have the `Particles` class implmented correctly.\\\n",
    "You should be able to use it to initialzie arbitry distribution of N particles.\n",
    "\n",
    "(1) Initialize two particles that describe the Sun-Earth binary system.\n",
    "\n",
    "(2) Initialize a 3D particle clould with N=1000 particles in a normal distrbuiotn (sigma=1) and total mass equal to 10.\n",
    "\n",
    "Hints: use `numpy.random.randn` (see https://numpy.org/doc/stable/reference/random/generated/numpy.random.randn.html). "
   ]
  },
  {
   "cell_type": "code",
   "execution_count": null,
   "metadata": {},
   "outputs": [],
   "source": [
    "# TODO:\n",
    "import sys \n",
    "sys.path.append('../project1')\n",
    "import solver as mysolver     \n",
    "num_particles = 1000\n",
    "total_mass=10\n",
    "particles = Particles(N=num_particles)\n",
    "particles.masses  = np.random.randn(num_particles, 1)+1/num_particles*total_mass\n",
    "particles.positions = np.random.rand(num_particles, 3)\n",
    "particles.velocities = np.random.rand(num_particles, 3)\n",
    "particles.accelerations = np.random.rand(num_particles, 3)\n",
    "particles.tags = np.linspace(1,num_particles,num_particles)\n",
    "\n",
    "particles.plot_output(2)\n",
    "\n",
    "\n",
    "\n",
    "\n"
   ]
  }
 ],
 "metadata": {
  "kernelspec": {
   "display_name": "comphys-112",
   "language": "python",
   "name": "python3"
  },
  "language_info": {
   "codemirror_mode": {
    "name": "ipython",
    "version": 3
   },
   "file_extension": ".py",
   "mimetype": "text/x-python",
   "name": "python",
   "nbconvert_exporter": "python",
   "pygments_lexer": "ipython3",
   "version": "3.12.1"
  }
 },
 "nbformat": 4,
 "nbformat_minor": 2
}
