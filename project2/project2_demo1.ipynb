{
 "cells": [
  {
   "cell_type": "code",
   "execution_count": 7,
   "metadata": {},
   "outputs": [],
   "source": [
    "import numpy as np\n",
    "import matplotlib.pyplot as plt\n",
    "from nbody import * "
   ]
  },
  {
   "cell_type": "markdown",
   "metadata": {},
   "source": []
  },
  {
   "cell_type": "markdown",
   "metadata": {},
   "source": [
    "# The `Particles` class\n",
    "\n",
    "We could write a `Particles` python class to handle the particle information.\n",
    "The class contains several physical properties, including tag, mass, position, velocity, acceleration, and time.\n",
    "\n",
    "For our own convenience, we want to have the below data type to handle the N-body simulation:"
   ]
  },
  {
   "cell_type": "code",
   "execution_count": 8,
   "metadata": {},
   "outputs": [],
   "source": [
    "time          = 0    # the starting  time\n",
    "num_particles = 100  # number of particles\n",
    "masses        = np.ones((num_particles,1))\n",
    "positions     = np.zeros((num_particles,3)) # 3 directions\n",
    "velocities    = np.zeros((num_particles,3))\n",
    "accelerations = np.zeros((num_particles,3))\n",
    "tags          = np.linspace(1,num_particles,num_particles)"
   ]
  },
  {
   "cell_type": "markdown",
   "metadata": {},
   "source": [
    "Note that, the mass is setting to a Nx1 martrix.\\\n",
    "The reason to use Nx1 matrix but not a 1D numpy array is because mass x velcoity is the momentum\\\n",
    "and only Nx1 matrix could multiple with an Nx3 matrix.\n",
    "\n",
    "The particles class can be initialized by"
   ]
  },
  {
   "cell_type": "code",
   "execution_count": 9,
   "metadata": {},
   "outputs": [],
   "source": [
    "particles = Particles(N=num_particles)"
   ]
  },
  {
   "cell_type": "code",
   "execution_count": 10,
   "metadata": {},
   "outputs": [],
   "source": [
    "particles.masses = np.ones((num_particles,1))\n",
    "particles.positions = np.random.rand(num_particles, 3)\n",
    "particles.velocities = np.random.rand(num_particles, 3)\n",
    "particles.accelerations = np.random.rand(num_particles, 3)\n",
    "\n",
    "particles.tags = np.linspace(1,num_particles,num_particles)\n",
    "print(particles.accelerations)"
   ]
  },
  {
   "cell_type": "markdown",
   "metadata": {},
   "source": []
  },
  {
   "cell_type": "markdown",
   "metadata": {},
   "source": [
    "Make sure your code will check the shape of your inputs. It must return errors when setting an incorrect shape."
   ]
  },
  {
   "cell_type": "code",
   "execution_count": 11,
   "metadata": {},
   "outputs": [],
   "source": [
    "# make sure the below codes will return an error. uncomment each line to test\n",
    "\n",
    "# particles.masses = np.ones(num_particles)\n",
    "# particles.positions = np.random.rand(199, 3)\n",
    "# particles.velocities = np.random.rand(500, 3)\n",
    "# particles.accelerations = np.random.rand(num_particles, 2)\n",
    "# particles.tags = np.linspace(1,num_particles,500)"
   ]
  },
  {
   "cell_type": "markdown",
   "metadata": {},
   "source": [
    "# Add (remove) more particles\n",
    "\n",
    "We could add more particles on the fly."
   ]
  },
  {
   "cell_type": "code",
   "execution_count": 12,
   "metadata": {},
   "outputs": [
    {
     "name": "stdout",
     "output_type": "stream",
     "text": [
      "120\n",
      "(120, 1)\n",
      "(120, 3)\n"
     ]
    },
    {
     "ename": "RecursionError",
     "evalue": "maximum recursion depth exceeded",
     "output_type": "error",
     "traceback": [
      "\u001b[1;31m---------------------------------------------------------------------------\u001b[0m",
      "\u001b[1;31mRecursionError\u001b[0m                            Traceback (most recent call last)",
      "Cell \u001b[1;32mIn[12], line 11\u001b[0m\n\u001b[0;32m      9\u001b[0m \u001b[38;5;28mprint\u001b[39m(particles\u001b[38;5;241m.\u001b[39m_masses\u001b[38;5;241m.\u001b[39mshape)\n\u001b[0;32m     10\u001b[0m \u001b[38;5;28mprint\u001b[39m(particles\u001b[38;5;241m.\u001b[39m_positions\u001b[38;5;241m.\u001b[39mshape)\n\u001b[1;32m---> 11\u001b[0m \u001b[43mparticles\u001b[49m\u001b[38;5;241;43m.\u001b[39;49m\u001b[43moutput\u001b[49m\u001b[43m(\u001b[49m\u001b[38;5;241;43m3\u001b[39;49m\u001b[43m)\u001b[49m\n",
      "File \u001b[1;32mc:\\Users\\kevin\\codes\\computationalPhysics-112\\project2\\nbody\\particles.py:27\u001b[0m, in \u001b[0;36mParticles.output\u001b[1;34m(self, dim)\u001b[0m\n\u001b[0;32m     25\u001b[0m     plt\u001b[38;5;241m.\u001b[39mscatter(\u001b[38;5;28mself\u001b[39m\u001b[38;5;241m.\u001b[39mpositions[:,\u001b[38;5;241m0\u001b[39m],\u001b[38;5;28mself\u001b[39m\u001b[38;5;241m.\u001b[39mpositions[:,\u001b[38;5;241m1\u001b[39m])\n\u001b[0;32m     26\u001b[0m \u001b[38;5;28;01melif\u001b[39;00m dim \u001b[38;5;241m==\u001b[39m\u001b[38;5;241m3\u001b[39m:\n\u001b[1;32m---> 27\u001b[0m     plt\u001b[38;5;241m.\u001b[39mscatter(\u001b[38;5;28;43mself\u001b[39;49m\u001b[38;5;241;43m.\u001b[39;49m\u001b[43mpositions\u001b[49m[:,\u001b[38;5;241m0\u001b[39m],\u001b[38;5;28mself\u001b[39m\u001b[38;5;241m.\u001b[39mpositions[:,\u001b[38;5;241m1\u001b[39m],\u001b[38;5;28mself\u001b[39m\u001b[38;5;241m.\u001b[39mpositions[:,\u001b[38;5;241m2\u001b[39m])\n",
      "File \u001b[1;32mc:\\Users\\kevin\\codes\\computationalPhysics-112\\project2\\nbody\\particles.py:79\u001b[0m, in \u001b[0;36mParticles.positions\u001b[1;34m(self)\u001b[0m\n\u001b[0;32m     77\u001b[0m \u001b[38;5;129m@property\u001b[39m\n\u001b[0;32m     78\u001b[0m \u001b[38;5;28;01mdef\u001b[39;00m \u001b[38;5;21mpositions\u001b[39m(\u001b[38;5;28mself\u001b[39m):\n\u001b[1;32m---> 79\u001b[0m     \u001b[38;5;28;01mreturn\u001b[39;00m \u001b[38;5;28;43mself\u001b[39;49m\u001b[38;5;241;43m.\u001b[39;49m\u001b[43mpositions\u001b[49m\n",
      "File \u001b[1;32mc:\\Users\\kevin\\codes\\computationalPhysics-112\\project2\\nbody\\particles.py:79\u001b[0m, in \u001b[0;36mParticles.positions\u001b[1;34m(self)\u001b[0m\n\u001b[0;32m     77\u001b[0m \u001b[38;5;129m@property\u001b[39m\n\u001b[0;32m     78\u001b[0m \u001b[38;5;28;01mdef\u001b[39;00m \u001b[38;5;21mpositions\u001b[39m(\u001b[38;5;28mself\u001b[39m):\n\u001b[1;32m---> 79\u001b[0m     \u001b[38;5;28;01mreturn\u001b[39;00m \u001b[38;5;28;43mself\u001b[39;49m\u001b[38;5;241;43m.\u001b[39;49m\u001b[43mpositions\u001b[49m\n",
      "    \u001b[1;31m[... skipping similar frames: Particles.positions at line 79 (2973 times)]\u001b[0m\n",
      "File \u001b[1;32mc:\\Users\\kevin\\codes\\computationalPhysics-112\\project2\\nbody\\particles.py:79\u001b[0m, in \u001b[0;36mParticles.positions\u001b[1;34m(self)\u001b[0m\n\u001b[0;32m     77\u001b[0m \u001b[38;5;129m@property\u001b[39m\n\u001b[0;32m     78\u001b[0m \u001b[38;5;28;01mdef\u001b[39;00m \u001b[38;5;21mpositions\u001b[39m(\u001b[38;5;28mself\u001b[39m):\n\u001b[1;32m---> 79\u001b[0m     \u001b[38;5;28;01mreturn\u001b[39;00m \u001b[38;5;28;43mself\u001b[39;49m\u001b[38;5;241;43m.\u001b[39;49m\u001b[43mpositions\u001b[49m\n",
      "\u001b[1;31mRecursionError\u001b[0m: maximum recursion depth exceeded"
     ]
    }
   ],
   "source": [
    "num_particles = 20\n",
    "masses = np.ones((num_particles,1))\n",
    "positions = np.random.rand(num_particles, 3)\n",
    "velocities = np.random.rand(num_particles, 3)\n",
    "accelerations = np.random.rand(num_particles, 3)\n",
    "\n",
    "particles.add_particles(masses, positions, velocities, accelerations)\n",
    "print(particles.nparticles)\n",
    "print(particles._masses.shape)\n",
    "print(particles._positions.shape)\n",
    "particles.output(3)"
   ]
  },
  {
   "cell_type": "markdown",
   "metadata": {},
   "source": [
    "### Data IO\n",
    "\n",
    "We could also dump the particle information into a text file."
   ]
  },
  {
   "cell_type": "code",
   "execution_count": null,
   "metadata": {},
   "outputs": [
    {
     "name": "stdout",
     "output_type": "stream",
     "text": [
      "1\n"
     ]
    }
   ],
   "source": [
    "# particles.output(filename='data.txt')\n",
    "print(1)"
   ]
  },
  {
   "cell_type": "markdown",
   "metadata": {},
   "source": [
    "### Visualization\n",
    "\n",
    "We could also visualize (both 2D and 3D) these particles"
   ]
  },
  {
   "cell_type": "code",
   "execution_count": null,
   "metadata": {},
   "outputs": [
    {
     "ename": "AttributeError",
     "evalue": "'Particles' object has no attribute 'draw'",
     "output_type": "error",
     "traceback": [
      "\u001b[1;31m---------------------------------------------------------------------------\u001b[0m",
      "\u001b[1;31mAttributeError\u001b[0m                            Traceback (most recent call last)",
      "Cell \u001b[1;32mIn[16], line 1\u001b[0m\n\u001b[1;32m----> 1\u001b[0m \u001b[43mparticles\u001b[49m\u001b[38;5;241;43m.\u001b[39;49m\u001b[43mdraw\u001b[49m(dim\u001b[38;5;241m=\u001b[39m\u001b[38;5;241m2\u001b[39m)\n",
      "\u001b[1;31mAttributeError\u001b[0m: 'Particles' object has no attribute 'draw'"
     ]
    }
   ],
   "source": [
    "particles.draw(dim=2)"
   ]
  },
  {
   "cell_type": "code",
   "execution_count": null,
   "metadata": {},
   "outputs": [],
   "source": [
    "particles.draw(dim=3)"
   ]
  },
  {
   "cell_type": "markdown",
   "metadata": {},
   "source": [
    "# Exercise 1\n",
    "\n",
    "Implment the `Particles` class in `./nbody/particles.py`. Please make sure your Particles class has passed all the test in the above section. "
   ]
  },
  {
   "cell_type": "code",
   "execution_count": null,
   "metadata": {},
   "outputs": [],
   "source": [
    "# TODO: test your class here\n",
    "\n",
    "\n",
    "\n",
    "\n",
    "\n"
   ]
  },
  {
   "cell_type": "markdown",
   "metadata": {},
   "source": [
    "# Exercise 2\n",
    "\n",
    "Once you have the `Particles` class implmented correctly.\\\n",
    "You should be able to use it to initialzie arbitry distribution of N particles.\n",
    "\n",
    "(1) Initialize two particles that describe the Sun-Earth binary system.\n",
    "\n",
    "(2) Initialize a 3D particle clould with N=1000 particles in a normal distrbuiotn (sigma=1) and total mass equal to 10.\n",
    "\n",
    "Hints: use `numpy.random.randn` (see https://numpy.org/doc/stable/reference/random/generated/numpy.random.randn.html). "
   ]
  },
  {
   "cell_type": "code",
   "execution_count": null,
   "metadata": {},
   "outputs": [],
   "source": [
    "# TODO:\n",
    "\n",
    "\n",
    "\n",
    "\n"
   ]
  }
 ],
 "metadata": {
  "kernelspec": {
   "display_name": "comphys-112",
   "language": "python",
   "name": "python3"
  },
  "language_info": {
   "codemirror_mode": {
    "name": "ipython",
    "version": 3
   },
   "file_extension": ".py",
   "mimetype": "text/x-python",
   "name": "python",
   "nbconvert_exporter": "python",
   "pygments_lexer": "ipython3",
   "version": "3.12.1"
  }
 },
 "nbformat": 4,
 "nbformat_minor": 2
}
